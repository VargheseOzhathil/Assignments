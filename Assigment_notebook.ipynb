{
 "cells": [
  {
   "cell_type": "markdown",
   "id": "4e4397a3-7b0f-40d2-850c-b48d4b10024d",
   "metadata": {},
   "source": [
    "# My Jupyter Notebook"
   ]
  },
  {
   "cell_type": "markdown",
   "id": "07cdc563-c203-4d0c-a7f8-af39d6ce1ac4",
   "metadata": {},
   "source": [
    "## __Varghese Jacob__\n",
    "## Data Engineer"
   ]
  },
  {
   "cell_type": "markdown",
   "id": "a37fcde1-6382-4c96-b6d5-70b3d0ba9c98",
   "metadata": {},
   "source": [
    "_I am interested in data science because of my fascination with the question of what constitutes valuable information._\n",
    "_I see it as a pathway towards exploring text vectorization and other NLP and NLU algorithms._"
   ]
  },
  {
   "cell_type": "markdown",
   "id": "aca25798-8599-4565-af56-12c7918012cf",
   "metadata": {},
   "source": [
    "### Code to find the sum of a list of numbers"
   ]
  },
  {
   "cell_type": "code",
   "execution_count": 4,
   "id": "b2617b8f-1eaa-4fd2-9ccc-a769003fa72b",
   "metadata": {},
   "outputs": [
    {
     "name": "stdout",
     "output_type": "stream",
     "text": [
      "Sum of numbers in list is: 61\n"
     ]
    }
   ],
   "source": [
    "list_sum = 0\n",
    "num_list = [4, 5, 6, 9, 11, 23, 3]\n",
    "for i in num_list:\n",
    "    list_sum += i\n",
    "print(\"Sum of numbers in list is:\", list_sum)"
   ]
  },
  {
   "cell_type": "markdown",
   "id": "0269b1e4-fb70-4845-b42c-b3c9ae2a224e",
   "metadata": {},
   "source": [
    "Jupyter is an awesome platform to learn and practice data science related tasks\n",
    "\n",
    "----\n",
    "\n",
    "You can code in languages like\n",
    "\n",
    "|Language1 | Language2 | Language3 |\n",
    "| :-: | :-: | :-: |\n",
    "| Julia | Python | R |\n",
    "\n",
    "and even more.\n",
    "\n",
    "Some alternate platforms are\n",
    "* spyder\n",
    "* R Studio"
   ]
  }
 ],
 "metadata": {
  "kernelspec": {
   "display_name": "Python 3",
   "language": "python",
   "name": "python3"
  },
  "language_info": {
   "codemirror_mode": {
    "name": "ipython",
    "version": 3
   },
   "file_extension": ".py",
   "mimetype": "text/x-python",
   "name": "python",
   "nbconvert_exporter": "python",
   "pygments_lexer": "ipython3",
   "version": "3.8.8"
  }
 },
 "nbformat": 4,
 "nbformat_minor": 5
}
